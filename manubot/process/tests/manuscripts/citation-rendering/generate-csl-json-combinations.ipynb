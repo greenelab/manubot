{
 "cells": [
  {
   "cell_type": "markdown",
   "metadata": {},
   "source": [
    "# Create CSL JSON metadata with combinations of fields for testing"
   ]
  },
  {
   "cell_type": "code",
   "execution_count": 1,
   "metadata": {},
   "outputs": [],
   "source": [
    "import pathlib\n",
    "import json"
   ]
  },
  {
   "cell_type": "code",
   "execution_count": 2,
   "metadata": {},
   "outputs": [],
   "source": [
    "csl_item_complete = {\n",
    "    'id': 'test-csl-item-complete',\n",
    "    'type': 'article-journal',\n",
    "    'title': 'This is the title',\n",
    "    'author': [\n",
    "        {'given': 'Given-1', 'family': 'Family-1'},\n",
    "        {'given': 'Given-2', 'family': 'Family-2'},\n",
    "        {'given': 'Given-3 I.', 'family': 'Family-3'},\n",
    "    ],\n",
    "    'editor': [\n",
    "        {'given': 'Given-1', 'family': 'Editor Family-1'},\n",
    "        {'given': 'Given-2', 'family': 'Editor Family-2'},\n",
    "    ],\n",
    "    'container-title': 'Container Title',\n",
    "    'container-title-short': 'Cont Titl',\n",
    "    'volume': 'Volume',\n",
    "    'issue': 'Issue',\n",
    "    'page': 'page-number',\n",
    "    'publisher': 'Publisher',\n",
    "    'issued': {'date-parts': [[2019, 1, 1]]},\n",
    "    'language': 'en',\n",
    "    'DOI': '10.0000/fake-doi',\n",
    "    'PMCID': 'PMC0000000',\n",
    "    'PMID': '00000000',\n",
    "    'URL': 'https://manubot.org',\n",
    "}"
   ]
  },
  {
   "cell_type": "code",
   "execution_count": 3,
   "metadata": {},
   "outputs": [],
   "source": [
    "def powerset(iterable):\n",
    "    \"\"\"\n",
    "    powerset([1,2,3]) --> () (1,) (2,) (3,) (1,2) (1,3) (2,3) (1,2,3)\n",
    "    https://docs.python.org/3/library/itertools.html#itertools-recipes\n",
    "    \"\"\"\n",
    "    from itertools import chain, combinations\n",
    "    s = list(iterable)  # allows duplicate elements\n",
    "    return chain.from_iterable(combinations(s, r) for r in range(len(s)+1))"
   ]
  },
  {
   "cell_type": "code",
   "execution_count": 4,
   "metadata": {},
   "outputs": [
    {
     "data": {
      "text/plain": [
       "256"
      ]
     },
     "execution_count": 4,
     "metadata": {},
     "output_type": "execute_result"
    }
   ],
   "source": [
    "csl_key_subset = [\n",
    "    'title',\n",
    "    'author',\n",
    "    'editor',\n",
    "    'container-title',\n",
    "#     'container-title-short',\n",
    "    'publisher',\n",
    "    'issued',\n",
    "    'URL',\n",
    "    'DOI',\n",
    "]\n",
    "combinations = list(powerset(csl_key_subset))\n",
    "len(combinations)"
   ]
  },
  {
   "cell_type": "code",
   "execution_count": 5,
   "metadata": {},
   "outputs": [],
   "source": [
    "csl_data = list()\n",
    "citation_list_md = ''\n",
    "for i, keys in enumerate(combinations):\n",
    "    citation_id = 'raw:' + '_'.join(keys) if keys else 'raw:blank'\n",
    "    csl_item_subset = {\n",
    "        'id': citation_id,\n",
    "        'type': 'entry',\n",
    "    }\n",
    "    for key in keys:\n",
    "        csl_item_subset[key] = csl_item_complete[key]\n",
    "    citation_list_md += f\"{i + 1}. Citation whose CSL JSON contains: {', '.join(keys)} [@{citation_id}].\\n\"\n",
    "    csl_data.append(csl_item_subset)"
   ]
  },
  {
   "cell_type": "code",
   "execution_count": 6,
   "metadata": {},
   "outputs": [
    {
     "name": "stdout",
     "output_type": "stream",
     "text": [
      "# Testing manuscript for CSL JSON field combinations\n",
      "\n",
      "This file was created by `generate-csl-json-combinations.ipynb`.\n",
      "\n",
      "The complete CSL Item this is based on is:\n",
      "\n",
      "```json\n",
      "{\n",
      "  \"id\": \"test-csl-item-com\n"
     ]
    }
   ],
   "source": [
    "csl_item_ids = [csl_item['id'] for csl_item in csl_data]\n",
    "newline = '\\n'\n",
    "text = f'''\\\n",
    "# Testing manuscript for CSL JSON field combinations\n",
    "\n",
    "This file was created by `generate-csl-json-combinations.ipynb`.\n",
    "\n",
    "The complete CSL Item this is based on is:\n",
    "\n",
    "```json\n",
    "{json.dumps(csl_item_complete, indent=2, ensure_ascii=False)}\n",
    "```\n",
    "\n",
    "All possible combinations of the following fields were created:\n",
    "\n",
    "{newline.join('- ' + x for x in csl_key_subset)}\n",
    "\n",
    "The list of citations follows:\n",
    "\n",
    "{citation_list_md}\n",
    "'''\n",
    "\n",
    "print(text[:200])"
   ]
  },
  {
   "cell_type": "code",
   "execution_count": 7,
   "metadata": {},
   "outputs": [],
   "source": [
    "# Write markdown document\n",
    "pathlib.Path('./content/01.main-text.md').write_text(text)\n",
    "\n",
    "# Write CSL JSON\n",
    "with pathlib.Path('./content/manual-references.json').open('w') as write_file:\n",
    "    json.dump(csl_data, write_file, indent=2, ensure_ascii=False)"
   ]
  },
  {
   "cell_type": "code",
   "execution_count": 8,
   "metadata": {},
   "outputs": [],
   "source": [
    "! pandoc --output=output/manuscript.html --to=html --bibliography=content/manual-references.json content/01.main-text.md"
   ]
  }
 ],
 "metadata": {
  "kernelspec": {
   "display_name": "Python [conda env:anaconda3]",
   "language": "python",
   "name": "conda-env-anaconda3-py"
  },
  "language_info": {
   "codemirror_mode": {
    "name": "ipython",
    "version": 3
   },
   "file_extension": ".py",
   "mimetype": "text/x-python",
   "name": "python",
   "nbconvert_exporter": "python",
   "pygments_lexer": "ipython3",
   "version": "3.6.5"
  }
 },
 "nbformat": 4,
 "nbformat_minor": 2
}
